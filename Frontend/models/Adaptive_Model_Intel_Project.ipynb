{
  "nbformat": 4,
  "nbformat_minor": 0,
  "metadata": {
    "colab": {
      "provenance": [],
      "gpuType": "T4"
    },
    "kernelspec": {
      "name": "python3",
      "display_name": "Python 3"
    },
    "language_info": {
      "name": "python"
    },
    "accelerator": "GPU"
  },
  "cells": [
    {
      "cell_type": "code",
      "source": [
        "from sklearn.model_selection import train_test_split\n",
        "from sklearn.metrics import accuracy_score\n",
        "import xgboost as xgb\n",
        "import numpy as np\n",
        "\n",
        "# Training Data: [correct, avg_time, retries]\n",
        "X = np.array([\n",
        "    [10, 4, 0], [9, 5, 0], [8, 6, 1], [7, 7, 1], [6, 8, 2],\n",
        "    [5, 9, 2], [4, 10, 3], [3, 11, 3], [2, 13, 4], [1, 14, 5],\n",
        "    [9, 3, 0], [8, 4, 1], [7, 5, 1], [6, 6, 2], [5, 7, 2],\n",
        "    [4, 8, 3], [3, 9, 3], [2, 11, 4], [1, 12, 5], [0, 13, 6],\n",
        "    [8, 2, 0], [7, 3, 1], [6, 4, 1], [5, 5, 2], [4, 6, 2],\n",
        "    [3, 7, 3], [2, 8, 3], [1, 10, 4], [0, 11, 5], [9, 2, 0],\n",
        "    [8, 3, 1], [7, 4, 1], [6, 5, 2], [5, 6, 2], [4, 7, 3],\n",
        "    [3, 8, 3], [2, 9, 4], [1, 10, 5], [0, 12, 6], [10, 1, 0],\n",
        "    [9, 2, 0], [8, 3, 1], [7, 4, 1], [6, 5, 2], [5, 6, 2],\n",
        "    [4, 7, 3], [3, 8, 3], [2, 9, 4], [1, 10, 5], [0, 12, 6],\n",
        "    [8, 1, 0], [7, 2, 1], [6, 3, 1], [5, 4, 2], [4, 5, 2],\n",
        "    [3, 6, 3], [2, 7, 4], [1, 9, 5], [0, 10, 6], [10, 0, 0],\n",
        "    [9, 1, 0], [8, 2, 1], [7, 3, 1], [6, 4, 2], [5, 5, 2],\n",
        "    [4, 6, 3], [3, 7, 3], [2, 8, 4], [1, 9, 5], [0, 11, 6],\n",
        "    [7, 1, 0], [6, 2, 1], [5, 3, 1], [4, 4, 2], [3, 5, 2],\n",
        "    [2, 6, 3], [1, 7, 3], [0, 8, 4], [9, 0, 0], [8, 1, 0],\n",
        "    [7, 2, 1], [6, 3, 1], [5, 4, 2], [4, 5, 2], [3, 6, 3],\n",
        "    [2, 7, 3], [1, 8, 4], [0, 9, 5], [10, 2, 0], [9, 3, 0],\n",
        "    [8, 4, 1], [7, 5, 1], [6, 6, 2], [5, 7, 2], [4, 8, 3],\n",
        "    [3, 9, 3], [2, 10, 4], [1, 11, 5], [0, 12, 6]\n",
        "])\n",
        "\n",
        "# Adjusted difficulty labels based on correct and retries\n",
        "y = []\n",
        "for row in X:\n",
        "    correct, avg_time, retries = row\n",
        "    if correct >= 8 and retries <= 1:\n",
        "        y.append(\"easy\")\n",
        "    elif correct >= 4 and correct <= 7 and retries >= 1 and retries <= 3:\n",
        "        y.append(\"medium\")\n",
        "    else:\n",
        "        y.append(\"hard\")\n",
        "\n",
        "y = np.array(y)\n",
        "\n",
        "# Split data into training and testing sets\n",
        "X_train, X_test, y_train, y_test = train_test_split(X, y, test_size=0.2, random_state=42)\n",
        "\n",
        "# Convert labels to numerical values (XGBoost requires numerical labels)\n",
        "label_map = {\"easy\": 0, \"medium\": 1, \"hard\": 2}\n",
        "y_train_encoded = np.array([label_map[label] for label in y_train])\n",
        "y_test_encoded = np.array([label_map[label] for label in y_test])\n",
        "\n",
        "# Create and train XGBoost classifier\n",
        "model = xgb.XGBClassifier(objective=\"multi:softmax\", num_class=3, random_state=42)\n",
        "model.fit(X_train, y_train_encoded)\n",
        "\n",
        "# Make predictions\n",
        "y_pred_encoded = model.predict(X_test)\n",
        "\n",
        "# Convert numerical predictions back to labels\n",
        "reverse_label_map = {0: \"easy\", 1: \"medium\", 2: \"hard\"}\n",
        "y_pred = np.array([reverse_label_map[label] for label in y_pred_encoded])\n",
        "\n",
        "# Evaluate performance\n",
        "accuracy = accuracy_score(y_test, y_pred)\n",
        "print(\"Accuracy:\", accuracy)\n",
        "\n",
        "# Predict difficulty for a new user\n",
        "new_user = np.array([[5, 7, 2]])\n",
        "new_user_pred_encoded = model.predict(new_user)\n",
        "newuser= np.array([[8, 7, 3]])\n",
        "new_user_pred_encoded = model.predict(newuser)\n",
        "print(new_user_pred_encoded)\n",
        "new_user_pred = reverse_label_map[new_user_pred_encoded[0]]\n",
        "print(\"Predicted difficulty for new user:\", new_user_pred)"
      ],
      "metadata": {
        "colab": {
          "base_uri": "https://localhost:8080/"
        },
        "id": "9--EvA57NXvJ",
        "outputId": "33c6933b-1ed3-471a-82e8-0b226f4cb52e"
      },
      "execution_count": null,
      "outputs": [
        {
          "output_type": "stream",
          "name": "stdout",
          "text": [
            "Accuracy: 1.0\n",
            "[0]\n",
            "Predicted difficulty for new user: easy\n"
          ]
        }
      ]
    },
    {
      "cell_type": "code",
      "source": [
        "import joblib"
      ],
      "metadata": {
        "id": "80utfOgKPBDy"
      },
      "execution_count": null,
      "outputs": []
    },
    {
      "cell_type": "code",
      "source": [
        "joblib.dump(model, 'model.pkl')"
      ],
      "metadata": {
        "colab": {
          "base_uri": "https://localhost:8080/"
        },
        "id": "NzaEa3wbA5lg",
        "outputId": "19654f1f-5930-4f49-8776-6e1cbf7a0090"
      },
      "execution_count": null,
      "outputs": [
        {
          "output_type": "execute_result",
          "data": {
            "text/plain": [
              "['model.pkl']"
            ]
          },
          "metadata": {},
          "execution_count": 3
        }
      ]
    },
    {
      "cell_type": "code",
      "source": [
        "# prompt: save model to my drive\n",
        "\n",
        "from sklearn.model_selection import train_test_split\n",
        "from sklearn.metrics import accuracy_score\n",
        "import xgboost as xgb\n",
        "import numpy as np\n",
        "import joblib\n",
        "\n",
        "# Training Data: [correct, avg_time, retries]\n",
        "X = np.array([\n",
        "    [10, 4, 0], [9, 5, 0], [8, 6, 1], [7, 7, 1], [6, 8, 2],\n",
        "    [5, 9, 2], [4, 10, 3], [3, 11, 3], [2, 13, 4], [1, 14, 5],\n",
        "    [9, 3, 0], [8, 4, 1], [7, 5, 1], [6, 6, 2], [5, 7, 2],\n",
        "    [4, 8, 3], [3, 9, 3], [2, 11, 4], [1, 12, 5], [0, 13, 6],\n",
        "    [8, 2, 0], [7, 3, 1], [6, 4, 1], [5, 5, 2], [4, 6, 2],\n",
        "    [3, 7, 3], [2, 8, 3], [1, 10, 4], [0, 11, 5], [9, 2, 0],\n",
        "    [8, 3, 1], [7, 4, 1], [6, 5, 2], [5, 6, 2], [4, 7, 3],\n",
        "    [3, 8, 3], [2, 9, 4], [1, 10, 5], [0, 12, 6], [10, 1, 0],\n",
        "    [9, 2, 0], [8, 3, 1], [7, 4, 1], [6, 5, 2], [5, 6, 2],\n",
        "    [4, 7, 3], [3, 8, 3], [2, 9, 4], [1, 10, 5], [0, 12, 6],\n",
        "    [8, 1, 0], [7, 2, 1], [6, 3, 1], [5, 4, 2], [4, 5, 2],\n",
        "    [3, 6, 3], [2, 7, 4], [1, 9, 5], [0, 10, 6], [10, 0, 0],\n",
        "    [9, 1, 0], [8, 2, 1], [7, 3, 1], [6, 4, 2], [5, 5, 2],\n",
        "    [4, 6, 3], [3, 7, 3], [2, 8, 4], [1, 9, 5], [0, 11, 6],\n",
        "    [7, 1, 0], [6, 2, 1], [5, 3, 1], [4, 4, 2], [3, 5, 2],\n",
        "    [2, 6, 3], [1, 7, 3], [0, 8, 4], [9, 0, 0], [8, 1, 0],\n",
        "    [7, 2, 1], [6, 3, 1], [5, 4, 2], [4, 5, 2], [3, 6, 3],\n",
        "    [2, 7, 3], [1, 8, 4], [0, 9, 5], [10, 2, 0], [9, 3, 0],\n",
        "    [8, 4, 1], [7, 5, 1], [6, 6, 2], [5, 7, 2], [4, 8, 3],\n",
        "    [3, 9, 3], [2, 10, 4], [1, 11, 5], [0, 12, 6]\n",
        "])\n",
        "\n",
        "# Adjusted difficulty labels based on correct and retries\n",
        "y = []\n",
        "for row in X:\n",
        "    correct, avg_time, retries = row\n",
        "    if correct >= 8 and retries <= 1:\n",
        "        y.append(\"easy\")\n",
        "    elif correct >= 4 and correct <= 7 and retries >= 1 and retries <= 3:\n",
        "        y.append(\"medium\")\n",
        "    else:\n",
        "        y.append(\"hard\")\n",
        "\n",
        "y = np.array(y)\n",
        "\n",
        "# Split data into training and testing sets\n",
        "X_train, X_test, y_train, y_test = train_test_split(X, y, test_size=0.2, random_state=42)\n",
        "\n",
        "# Convert labels to numerical values (XGBoost requires numerical labels)\n",
        "label_map = {\"easy\": 0, \"medium\": 1, \"hard\": 2}\n",
        "y_train_encoded = np.array([label_map[label] for label in y_train])\n",
        "y_test_encoded = np.array([label_map[label] for label in y_test])\n",
        "\n",
        "# Create and train XGBoost classifier\n",
        "model = xgb.XGBClassifier(objective=\"multi:softmax\", num_class=3, random_state=42)\n",
        "model.fit(X_train, y_train_encoded)\n",
        "\n",
        "# Make predictions\n",
        "y_pred_encoded = model.predict(X_test)\n",
        "\n",
        "# Convert numerical predictions back to labels\n",
        "reverse_label_map = {0: \"easy\", 1: \"medium\", 2: \"hard\"}\n",
        "y_pred = np.array([reverse_label_map[label] for label in y_pred_encoded])\n",
        "\n",
        "# Evaluate performance\n",
        "accuracy = accuracy_score(y_test, y_pred)\n",
        "print(\"Accuracy:\", accuracy)\n",
        "\n",
        "# Predict difficulty for a new user\n",
        "new_user = np.array([[5, 7, 2]])\n",
        "new_user_pred_encoded = model.predict(new_user)\n",
        "newuser= np.array([[8, 7, 3]])\n",
        "new_user_pred_encoded = model.predict(newuser)\n",
        "print(new_user_pred_encoded)\n",
        "new_user_pred = reverse_label_map[new_user_pred_encoded[0]]\n",
        "print(\"Predicted difficulty for new user:\", new_user_pred)\n",
        "\n",
        "from google.colab import drive\n",
        "drive.mount('/content/drive')\n",
        "\n",
        "# Save the model to your Google Drive\n",
        "joblib.dump(model, '/content/drive/My Drive/model.pkl')\n"
      ],
      "metadata": {
        "colab": {
          "base_uri": "https://localhost:8080/"
        },
        "id": "3ip1YW_NBEA6",
        "outputId": "99012b94-52dd-40fc-af87-726d54699c7a"
      },
      "execution_count": null,
      "outputs": [
        {
          "output_type": "stream",
          "name": "stdout",
          "text": [
            "Accuracy: 1.0\n",
            "[0]\n",
            "Predicted difficulty for new user: easy\n",
            "Drive already mounted at /content/drive; to attempt to forcibly remount, call drive.mount(\"/content/drive\", force_remount=True).\n"
          ]
        },
        {
          "output_type": "execute_result",
          "data": {
            "text/plain": [
              "['/content/drive/My Drive/model.pkl']"
            ]
          },
          "metadata": {},
          "execution_count": 4
        }
      ]
    },
    {
      "cell_type": "code",
      "source": [],
      "metadata": {
        "id": "WWEi6zw0BTDM"
      },
      "execution_count": null,
      "outputs": []
    }
  ]
}