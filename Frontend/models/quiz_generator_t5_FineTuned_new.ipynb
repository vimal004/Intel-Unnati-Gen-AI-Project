{
 "cells": [
  {
   "cell_type": "code",
   "execution_count": 1,
   "metadata": {},
   "outputs": [
    {
     "name": "stderr",
     "output_type": "stream",
     "text": [
      "c:\\Python312\\Lib\\site-packages\\tqdm\\auto.py:21: TqdmWarning: IProgress not found. Please update jupyter and ipywidgets. See https://ipywidgets.readthedocs.io/en/stable/user_install.html\n",
      "  from .autonotebook import tqdm as notebook_tqdm\n"
     ]
    },
    {
     "name": "stdout",
     "output_type": "stream",
     "text": [
      "✅ Model and tokenizer loaded successfully!\n"
     ]
    }
   ],
   "source": [
    "from transformers import AutoModelForSeq2SeqLM, AutoTokenizer\n",
    "\n",
    "# Set the local path to your fine-tuned model\n",
    "model_path = r\"D:\\CODER\\Intel_2025\\Quiz_Generation\\t5_quiz_model_new_finetuned\"\n",
    "\n",
    "# Load tokenizer\n",
    "tokenizer = AutoTokenizer.from_pretrained(model_path)\n",
    "\n",
    "# Load the fine-tuned model\n",
    "model = AutoModelForSeq2SeqLM.from_pretrained(model_path)\n",
    "\n",
    "print(\"✅ Model and tokenizer loaded successfully!\")\n"
   ]
  },
  {
   "cell_type": "code",
   "execution_count": 15,
   "metadata": {},
   "outputs": [],
   "source": [
    "model = AutoModelForSeq2SeqLM.from_pretrained(r\"D:\\CODER\\Intel_2025\\Quiz_Generation\\t5_quiz_model_new_finetuned\")\n",
    "tokenizer = AutoTokenizer.from_pretrained(r\"D:\\CODER\\Intel_2025\\Quiz_Generation\\t5_quiz_model_new_finetuned\")"
   ]
  },
  {
   "cell_type": "code",
   "execution_count": 16,
   "metadata": {},
   "outputs": [
    {
     "name": "stdout",
     "output_type": "stream",
     "text": [
      "Generated Question: The mitochondria is the powerhouse of the cell.\n"
     ]
    }
   ],
   "source": [
    "# Define a sample context for question generation\n",
    "context = \"The mitochondria is the powerhouse of the cell.\"\n",
    "\n",
    "# Prepare input for the model\n",
    "input_text = f\"Generate a question based on: {context}\"\n",
    "input_ids = tokenizer(input_text, return_tensors=\"pt\").input_ids\n",
    "\n",
    "# Generate question\n",
    "output_ids = model.generate(input_ids, max_length=50)\n",
    "question = tokenizer.decode(output_ids[0], skip_special_tokens=True)\n",
    "\n",
    "print(\"Generated Question:\", question)\n"
   ]
  },
  {
   "cell_type": "code",
   "execution_count": 17,
   "metadata": {},
   "outputs": [
    {
     "name": "stderr",
     "output_type": "stream",
     "text": [
      "C:\\Users\\Nakul Limbani\\AppData\\Roaming\\Python\\Python312\\site-packages\\transformers\\generation\\configuration_utils.py:629: UserWarning: `do_sample` is set to `False`. However, `temperature` is set to `0.7` -- this flag is only used in sample-based generation modes. You should set `do_sample=True` or unset `temperature`.\n",
      "  warnings.warn(\n",
      "C:\\Users\\Nakul Limbani\\AppData\\Roaming\\Python\\Python312\\site-packages\\transformers\\generation\\configuration_utils.py:634: UserWarning: `do_sample` is set to `False`. However, `top_p` is set to `0.95` -- this flag is only used in sample-based generation modes. You should set `do_sample=True` or unset `top_p`.\n",
      "  warnings.warn(\n"
     ]
    },
    {
     "name": "stdout",
     "output_type": "stream",
     "text": [
      "The mitochondria is the powerhouse of the cell.. Format the output as: 'Question?\n"
     ]
    }
   ],
   "source": [
    "def generate_mcq_question(context):\n",
    "    \"\"\"Generate a structured multiple-choice quiz question with four answer options using the fine-tuned T5 model.\"\"\"\n",
    "    input_text = f\"Generate a multiple-choice question with four options based on: {context}. Format the output as: 'Question? (A) Option 1 (B) Option 2 (C) Option 3 (D) Option 4'\"\n",
    "\n",
    "    input_ids = tokenizer(input_text, return_tensors=\"pt\").input_ids\n",
    "\n",
    "    #input_ids = input_ids.to(model.device)\n",
    "\n",
    "    # Generate MCQ with controlled output\n",
    "    output_ids = model.generate(\n",
    "        input_ids,\n",
    "        max_length=100,  # Slightly longer for options\n",
    "        num_beams=5,  # Beam search for better quality\n",
    "        no_repeat_ngram_size=2,  # Prevents repetitive sequences\n",
    "        temperature=0.7,  # Adds controlled randomness\n",
    "        top_k=50,\n",
    "        top_p=0.95\n",
    "    )\n",
    "\n",
    "    question_with_options = tokenizer.decode(output_ids[0], skip_special_tokens=True)\n",
    "    return question_with_options\n",
    "\n",
    "# **Example Input**\n",
    "#context = \"The Pythagorean theorem states that in a right triangle, the square of the hypotenuse is equal to the sum of the squares of the other two sides.\"\n",
    "context = \"The mitochondria is the powerhouse of the cell.\"\n",
    "print(generate_mcq_question(context))\n"
   ]
  },
  {
   "cell_type": "code",
   "execution_count": 18,
   "metadata": {},
   "outputs": [
    {
     "name": "stdout",
     "output_type": "stream",
     "text": [
      "Generated Question: The mitochondria is the powerhouse of the cell.\n"
     ]
    }
   ],
   "source": [
    "def test_question_generation():\n",
    "    context = \"The mitochondria is the powerhouse of the cell.\"\n",
    "    input_text = f\"Generate a question from this passage: {context}\"\n",
    "    \n",
    "    input_ids = tokenizer(input_text, return_tensors=\"pt\").input_ids\n",
    "    output_ids = model.generate(input_ids, max_length=50)\n",
    "    question = tokenizer.decode(output_ids[0], skip_special_tokens=True)\n",
    "\n",
    "    print(\"Generated Question:\", question)\n",
    "\n",
    "test_question_generation()\n"
   ]
  },
  {
   "cell_type": "code",
   "execution_count": 19,
   "metadata": {},
   "outputs": [
    {
     "name": "stdout",
     "output_type": "stream",
     "text": [
      "The Pythagorean theorem states that in a right triangle, the square of the hypotenuse is equal to the sum of what?\n"
     ]
    }
   ],
   "source": [
    "def generate_mcq_question(context):\n",
    "    \"\"\"Generate a multiple-choice quiz question with four answer options using the fine-tuned T5 model.\"\"\"\n",
    "    input_text = (\n",
    "        f\"Generate a multiple-choice question based on: {context}. \"\n",
    "        f\"Provide four answer choices labeled as (A), (B), (C), and (D). \"\n",
    "        f\"Ensure one is the correct answer.\"\n",
    "    )\n",
    "\n",
    "    input_ids = tokenizer(input_text, return_tensors=\"pt\").input_ids\n",
    "\n",
    "    output_ids = model.generate(\n",
    "        input_ids,\n",
    "        max_length=100,  \n",
    "        num_beams=5,  \n",
    "        no_repeat_ngram_size=2,  \n",
    "        temperature=0.7,  \n",
    "        top_k=50,\n",
    "        top_p=0.95\n",
    "    )\n",
    "\n",
    "    question_with_options = tokenizer.decode(output_ids[0], skip_special_tokens=True)\n",
    "    return question_with_options\n",
    "\n",
    "context = \"The Pythagorean theorem states that in a right triangle, the square of the hypotenuse is equal to the sum of the squares of the other two sides.\"\n",
    "print(generate_mcq_question(context))\n"
   ]
  },
  {
   "cell_type": "code",
   "execution_count": 20,
   "metadata": {},
   "outputs": [
    {
     "name": "stdout",
     "output_type": "stream",
     "text": [
      "The Pythagorean theorem states that in a right triangle, the square of the hypotenuse is equal to what?\n"
     ]
    }
   ],
   "source": [
    "def generate_mcq_question(context):\n",
    "    \"\"\"Generate a structured multiple-choice quiz question with four answer options using the fine-tuned T5 model.\"\"\"\n",
    "    input_text = (\n",
    "        f\"Generate a multiple-choice question based on the following passage: {context}. \"\n",
    "        f\"Format the output as follows:\\n\"\n",
    "        f\"Question: ________?\\n\"\n",
    "        f\"(A) Option 1\\n(B) Option 2\\n(C) Option 3\\n(D) Option 4\\n\"\n",
    "        f\"Ensure that one option is correct.\"\n",
    "    )\n",
    "\n",
    "    input_ids = tokenizer(input_text, return_tensors=\"pt\").input_ids\n",
    "\n",
    "    output_ids = model.generate(\n",
    "        input_ids,\n",
    "        max_length=120,  \n",
    "        num_beams=5,  \n",
    "        no_repeat_ngram_size=2,  \n",
    "        temperature=0.7,  \n",
    "        top_k=50,\n",
    "        top_p=0.95\n",
    "    )\n",
    "\n",
    "    mcq = tokenizer.decode(output_ids[0], skip_special_tokens=True)\n",
    "    return mcq\n",
    "\n",
    "context = \"The Pythagorean theorem states that in a right triangle, the square of the hypotenuse is equal to the sum of the squares of the other two sides.\"\n",
    "print(generate_mcq_question(context))\n"
   ]
  },
  {
   "cell_type": "code",
   "execution_count": 21,
   "metadata": {},
   "outputs": [
    {
     "ename": "NameError",
     "evalue": "name 'tokenized_datasets' is not defined",
     "output_type": "error",
     "traceback": [
      "\u001b[1;31m---------------------------------------------------------------------------\u001b[0m",
      "\u001b[1;31mNameError\u001b[0m                                 Traceback (most recent call last)",
      "Cell \u001b[1;32mIn[21], line 7\u001b[0m\n\u001b[0;32m      4\u001b[0m     \u001b[38;5;28;01mreturn\u001b[39;00m [ex \u001b[38;5;28;01mfor\u001b[39;00m ex \u001b[38;5;129;01min\u001b[39;00m dataset[\u001b[38;5;124m\"\u001b[39m\u001b[38;5;124mtrain\u001b[39m\u001b[38;5;124m\"\u001b[39m] \u001b[38;5;28;01mif\u001b[39;00m ex[\u001b[38;5;124m\"\u001b[39m\u001b[38;5;124mtopic\u001b[39m\u001b[38;5;124m\"\u001b[39m]\u001b[38;5;241m.\u001b[39mlower() \u001b[38;5;241m==\u001b[39m topic\u001b[38;5;241m.\u001b[39mlower()]\n\u001b[0;32m      6\u001b[0m \u001b[38;5;66;03m# Example: Get Science-based questions\u001b[39;00m\n\u001b[1;32m----> 7\u001b[0m science_questions \u001b[38;5;241m=\u001b[39m filter_by_topic(\u001b[38;5;124m\"\u001b[39m\u001b[38;5;124mScience\u001b[39m\u001b[38;5;124m\"\u001b[39m, \u001b[43mtokenized_datasets\u001b[49m)\n\u001b[0;32m      8\u001b[0m \u001b[38;5;28mprint\u001b[39m(science_questions[:\u001b[38;5;241m3\u001b[39m])  \u001b[38;5;66;03m# Display first 3 science-related questions\u001b[39;00m\n",
      "\u001b[1;31mNameError\u001b[0m: name 'tokenized_datasets' is not defined"
     ]
    }
   ],
   "source": [
    "# Function to filter dataset based on topic/domain\n",
    "def filter_by_topic(topic, dataset):\n",
    "    \"\"\"Filters questions by domain (e.g., Science, History).\"\"\"\n",
    "    return [ex for ex in dataset[\"train\"] if ex[\"topic\"].lower() == topic.lower()]\n",
    "\n",
    "# Example: Get Science-based questions\n",
    "science_questions = filter_by_topic(\"Science\", tokenized_datasets)\n",
    "print(science_questions[:3])  # Display first 3 science-related questions\n"
   ]
  },
  {
   "cell_type": "code",
   "execution_count": 22,
   "metadata": {},
   "outputs": [
    {
     "name": "stderr",
     "output_type": "stream",
     "text": [
      "[nltk_data] Downloading package wordnet to C:\\Users\\Nakul\n",
      "[nltk_data]     Limbani\\AppData\\Roaming\\nltk_data...\n",
      "[nltk_data]   Package wordnet is already up-to-date!\n"
     ]
    },
    {
     "name": "stdout",
     "output_type": "stream",
     "text": [
      "Correct Answer: Mitochondria\n",
      "Options: ['Mitochondria', 'mitochondrion', 'chondriosome', 'RandomOption3']\n"
     ]
    }
   ],
   "source": [
    "import nltk\n",
    "from nltk.corpus import wordnet\n",
    "\n",
    "nltk.download('wordnet')\n",
    "\n",
    "def generate_distractors(answer, num_distractors=3):\n",
    "    \"\"\"Generate similar but incorrect options for a quiz answer.\"\"\"\n",
    "    synonyms = set()\n",
    "    for syn in wordnet.synsets(answer):\n",
    "        for lemma in syn.lemmas():\n",
    "            synonyms.add(lemma.name())\n",
    "\n",
    "    # Remove correct answer & limit distractors\n",
    "    distractors = list(synonyms - {answer})[:num_distractors]\n",
    "    \n",
    "    # If WordNet doesn't provide enough distractors, add random words (fallback)\n",
    "    while len(distractors) < num_distractors:\n",
    "        distractors.append(\"RandomOption\" + str(len(distractors) + 1))\n",
    "\n",
    "    return distractors\n",
    "\n",
    "# Example usage\n",
    "correct_answer = \"Mitochondria\"\n",
    "distractors = generate_distractors(correct_answer)\n",
    "print(\"Correct Answer:\", correct_answer)\n",
    "print(\"Options:\", [correct_answer] + distractors)\n"
   ]
  },
  {
   "cell_type": "code",
   "execution_count": 23,
   "metadata": {},
   "outputs": [
    {
     "name": "stdout",
     "output_type": "stream",
     "text": [
      "The mitochondria is the powerhouse of the cell.\n",
      "(A) RandomOption3\n",
      "(B) The mitochondria is the powerhouse of the cell.\n",
      "(C) RandomOption2\n",
      "(D) RandomOption1\n"
     ]
    }
   ],
   "source": [
    "def generate_mcq(context):\n",
    "    \"\"\"Generate a multiple-choice question with four answer options.\"\"\"\n",
    "    # Generate the question using the fine-tuned T5 model\n",
    "    input_text = f\"Generate a question based on: {context}\"\n",
    "    input_ids = tokenizer(input_text, return_tensors=\"pt\").input_ids\n",
    "    output_ids = model.generate(input_ids, max_length=50)\n",
    "    question = tokenizer.decode(output_ids[0], skip_special_tokens=True)\n",
    "\n",
    "    # Generate answer choices\n",
    "    correct_answer = question.split(\"?\")[-1].strip()  # Extracting answer assumption\n",
    "    distractors = generate_distractors(correct_answer)\n",
    "\n",
    "    # Shuffle the options\n",
    "    import random\n",
    "    options = [correct_answer] + distractors\n",
    "    random.shuffle(options)\n",
    "\n",
    "    # Format the MCQ\n",
    "    formatted_question = f\"{question}\\n\"\n",
    "    formatted_question += f\"(A) {options[0]}\\n(B) {options[1]}\\n(C) {options[2]}\\n(D) {options[3]}\"\n",
    "    \n",
    "    return formatted_question\n",
    "\n",
    "# Example Context\n",
    "context = \"The mitochondria is the powerhouse of the cell.\"\n",
    "print(generate_mcq(context))\n"
   ]
  },
  {
   "cell_type": "code",
   "execution_count": 25,
   "metadata": {},
   "outputs": [
    {
     "name": "stdout",
     "output_type": "stream",
     "text": [
      "\n",
      "Mathematical programming is a part of what type of programming?\n",
      "(A) RandomOption3\n",
      "(B) RandomOption1\n",
      "(C) RandomOption2\n",
      "(D) \n",
      "❌ Incorrect. The correct answer is: RandomOption3\n"
     ]
    }
   ],
   "source": [
    "def interactive_quiz():\n",
    "    \"\"\"Runs an interactive quiz session with dynamically generated questions.\"\"\"\n",
    "    context = input(\"Enter a topic or concept to generate a question: \")\n",
    "    mcq = generate_mcq(context)\n",
    "    print(\"\\n\" + mcq)\n",
    "\n",
    "    # Get user answer\n",
    "    user_answer = input(\"\\nYour answer (A, B, C, or D): \").strip().upper()\n",
    "    correct_option = mcq.split(\"\\n\")[1][4:]  # Extract correct answer\n",
    "\n",
    "    # Check correctness\n",
    "    if user_answer in [\"A\", \"B\", \"C\", \"D\"]:\n",
    "        if correct_option in mcq.split(f\"({user_answer}) \")[-1]:\n",
    "            print(\"✅ Correct!\")\n",
    "        else:\n",
    "            print(f\"❌ Incorrect. The correct answer is: {correct_option}\")\n",
    "    else:\n",
    "        print(\"Invalid choice. Please enter A, B, C, or D.\")\n",
    "\n",
    "# Run the quiz\n",
    "interactive_quiz()\n"
   ]
  },
  {
   "cell_type": "code",
   "execution_count": 29,
   "metadata": {},
   "outputs": [
    {
     "name": "stderr",
     "output_type": "stream",
     "text": [
      "C:\\Users\\Nakul Limbani\\AppData\\Roaming\\Python\\Python312\\site-packages\\transformers\\generation\\configuration_utils.py:629: UserWarning: `do_sample` is set to `False`. However, `temperature` is set to `0.7` -- this flag is only used in sample-based generation modes. You should set `do_sample=True` or unset `temperature`.\n",
      "  warnings.warn(\n",
      "C:\\Users\\Nakul Limbani\\AppData\\Roaming\\Python\\Python312\\site-packages\\transformers\\generation\\configuration_utils.py:634: UserWarning: `do_sample` is set to `False`. However, `top_p` is set to `0.95` -- this flag is only used in sample-based generation modes. You should set `do_sample=True` or unset `top_p`.\n",
      "  warnings.warn(\n"
     ]
    },
    {
     "name": "stdout",
     "output_type": "stream",
     "text": [
      "The sum of all angles of triangle is 180 degrees.. Format the output as follows: Question: ________?\n"
     ]
    }
   ],
   "source": [
    "def generate_mcq_question(context):\n",
    "    \"\"\"Generate a structured multiple-choice quiz question with four answer options using the fine-tuned T5 model.\"\"\"\n",
    "    input_text = (\n",
    "        f\"Generate a multiple-choice question based on the following passage: {context}. \"\n",
    "        f\"Format the output as follows:\\n\"\n",
    "        f\"Question: ________?\\n\"\n",
    "        f\"(A) Option 1\\n(B) Option 2\\n(C) Option 3\\n(D) Option 4\\n\"\n",
    "        f\"Ensure that one option is correct.\"\n",
    "    )\n",
    "\n",
    "    input_ids = tokenizer(input_text, return_tensors=\"pt\").input_ids\n",
    "\n",
    "    output_ids = model.generate(\n",
    "        input_ids,\n",
    "        max_length=120,  \n",
    "        num_beams=5,  \n",
    "        no_repeat_ngram_size=2,  \n",
    "        temperature=0.7,  \n",
    "        top_k=50,\n",
    "        top_p=0.95\n",
    "    )\n",
    "\n",
    "    mcq = tokenizer.decode(output_ids[0], skip_special_tokens=True)\n",
    "    return mcq\n",
    "\n",
    "context = \"The sum of all angles of triangle is 180 degrees.\"\n",
    "print(generate_mcq_question(context))\n"
   ]
  },
  {
   "cell_type": "code",
   "execution_count": 30,
   "metadata": {},
   "outputs": [
    {
     "name": "stdout",
     "output_type": "stream",
     "text": [
      "Generated Question: The sum of all angles of a triangle is 180 degrees.\n"
     ]
    }
   ],
   "source": [
    "def generate_question(context):\n",
    "    \"\"\"Generate a question from a given passage using the fine-tuned T5 model.\"\"\"\n",
    "    input_text = f\"Generate a question based on: {context}\"\n",
    "    input_ids = tokenizer(input_text, return_tensors=\"pt\").input_ids\n",
    "\n",
    "    output_ids = model.generate(input_ids, max_length=50, num_beams=5)\n",
    "    question = tokenizer.decode(output_ids[0], skip_special_tokens=True)\n",
    "\n",
    "    return question\n",
    "\n",
    "context = \"The sum of all angles of a triangle is 180 degrees.\"\n",
    "question = generate_question(context)\n",
    "print(\"Generated Question:\", question)\n"
   ]
  },
  {
   "cell_type": "code",
   "execution_count": 31,
   "metadata": {},
   "outputs": [
    {
     "name": "stdout",
     "output_type": "stream",
     "text": [
      "Options:\n",
      "(A) 215\n",
      "(B) 163\n",
      "(C) 180 degrees\n",
      "(D) 215\n"
     ]
    }
   ],
   "source": [
    "from nltk.corpus import wordnet\n",
    "import random\n",
    "\n",
    "def generate_distractors(correct_answer, num_distractors=3):\n",
    "    \"\"\"Generate similar but incorrect options for a quiz answer.\"\"\"\n",
    "    synonyms = set()\n",
    "    for syn in wordnet.synsets(correct_answer):\n",
    "        for lemma in syn.lemmas():\n",
    "            synonyms.add(lemma.name())\n",
    "\n",
    "    # Remove correct answer & limit to distractors\n",
    "    distractors = list(synonyms - {correct_answer})[:num_distractors]\n",
    "\n",
    "    # If not enough synonyms, add random numbers as distractors\n",
    "    while len(distractors) < num_distractors:\n",
    "        distractors.append(str(random.randint(100, 250)))  # Random incorrect values\n",
    "\n",
    "    return distractors\n",
    "\n",
    "# Example usage\n",
    "correct_answer = \"180 degrees\"\n",
    "distractors = generate_distractors(correct_answer)\n",
    "options = [correct_answer] + distractors\n",
    "random.shuffle(options)  # Shuffle order\n",
    "\n",
    "print(\"Options:\")\n",
    "for idx, opt in enumerate(options, start=1):\n",
    "    print(f\"({chr(64+idx)}) {opt}\")\n"
   ]
  },
  {
   "cell_type": "code",
   "execution_count": 33,
   "metadata": {},
   "outputs": [
    {
     "name": "stdout",
     "output_type": "stream",
     "text": [
      "Question: The sum of all angles of a triangle is 180 degrees.\n",
      "(A) 235\n",
      "(B) 132\n",
      "(C) 114\n",
      "(D) 180 degrees\n",
      "\n",
      "Question: The sum of all angles of a triangle is 180 degrees.\n",
      "(A) 184\n",
      "(B) 217\n",
      "(C) 242\n",
      "(D) 180 degrees\n",
      "\n"
     ]
    }
   ],
   "source": [
    "def generate_mcq(context):\n",
    "    \"\"\"Generate a complete multiple-choice question with correct and incorrect options.\"\"\"\n",
    "    question = generate_question(context)\n",
    "    correct_answer = \"180 degrees\"  # This can be dynamically extracted based on context\n",
    "    distractors = generate_distractors(correct_answer)\n",
    "    \n",
    "    # Combine correct and incorrect options\n",
    "    options = [correct_answer] + distractors\n",
    "    random.shuffle(options)\n",
    "\n",
    "    # Format final MCQ\n",
    "    formatted_mcq = f\"Question: {question}\\n\"\n",
    "    for idx, opt in enumerate(options, start=1):\n",
    "        formatted_mcq += f\"({chr(64+idx)}) {opt}\\n\"\n",
    "\n",
    "    return formatted_mcq\n",
    "\n",
    "print(generate_mcq(\"The sum of all angles of a triangle is 180 degrees.\"))\n",
    "def generate_mcq(context):\n",
    "    \"\"\"Generate a complete multiple-choice question with correct and incorrect options.\"\"\"\n",
    "    question = generate_question(context)\n",
    "    correct_answer = \"180 degrees\"  # This can be dynamically extracted based on context\n",
    "    distractors = generate_distractors(correct_answer)\n",
    "    \n",
    "    # Combine correct and incorrect options\n",
    "    options = [correct_answer] + distractors\n",
    "    random.shuffle(options)\n",
    "\n",
    "    # Format final MCQ\n",
    "    formatted_mcq = f\"Question: {question}\\n\"\n",
    "    for idx, opt in enumerate(options, start=1):\n",
    "        formatted_mcq += f\"({chr(64+idx)}) {opt}\\n\"\n",
    "\n",
    "    return formatted_mcq\n",
    "\n",
    "print(generate_mcq(\"The sum of all angles of a triangle is 180 degrees.\"))\n"
   ]
  },
  {
   "cell_type": "code",
   "execution_count": 34,
   "metadata": {},
   "outputs": [
    {
     "name": "stderr",
     "output_type": "stream",
     "text": [
      "C:\\Users\\Nakul Limbani\\AppData\\Roaming\\Python\\Python312\\site-packages\\huggingface_hub\\file_download.py:142: UserWarning: `huggingface_hub` cache-system uses symlinks by default to efficiently store duplicated files but your machine does not support them in C:\\Users\\Nakul Limbani\\.cache\\huggingface\\hub\\models--valhalla--t5-base-qg-hl. Caching files will still work but in a degraded version that might require more space on your disk. This warning can be disabled by setting the `HF_HUB_DISABLE_SYMLINKS_WARNING` environment variable. For more details, see https://huggingface.co/docs/huggingface_hub/how-to-cache#limitations.\n",
      "To support symlinks on Windows, you either need to activate Developer Mode or to run Python as an administrator. In order to activate developer mode, see this article: https://docs.microsoft.com/en-us/windows/apps/get-started/enable-your-device-for-development\n",
      "  warnings.warn(message)\n",
      "You are using the default legacy behaviour of the <class 'transformers.models.t5.tokenization_t5.T5Tokenizer'>. This is expected, and simply means that the `legacy` (previous) behavior will be used so nothing changes for you. If you want to use the new behaviour, set `legacy=False`. This should only be set if you understand what it means, and thoroughly read the reason why this was added as explained in https://github.com/huggingface/transformers/pull/24565\n"
     ]
    },
    {
     "ename": "",
     "evalue": "",
     "output_type": "error",
     "traceback": [
      "\u001b[1;31mThe Kernel crashed while executing code in the current cell or a previous cell. \n",
      "\u001b[1;31mPlease review the code in the cell(s) to identify a possible cause of the failure. \n",
      "\u001b[1;31mClick <a href='https://aka.ms/vscodeJupyterKernelCrash'>here</a> for more info. \n",
      "\u001b[1;31mView Jupyter <a href='command:jupyter.viewOutput'>log</a> for further details."
     ]
    }
   ],
   "source": [
    "from transformers import AutoTokenizer, AutoModelForSeq2SeqLM\n",
    "\n",
    "# Load T5 Model\n",
    "model_name = \"valhalla/t5-base-qg-hl\"  # Pretrained model for question generation\n",
    "tokenizer = AutoTokenizer.from_pretrained(model_name)\n",
    "model = AutoModelForSeq2SeqLM.from_pretrained(model_name)\n",
    "\n",
    "def generate_question(context):\n",
    "    \"\"\"Generate a question using a pretrained T5 model.\"\"\"\n",
    "    input_text = f\"Generate a question based on: {context}\"\n",
    "    input_ids = tokenizer(input_text, return_tensors=\"pt\").input_ids\n",
    "\n",
    "    output_ids = model.generate(\n",
    "        input_ids,\n",
    "        max_length=50,\n",
    "        num_beams=5,  # Beam search for stable generation\n",
    "        temperature=0.7\n",
    "    )\n",
    "\n",
    "    question = tokenizer.decode(output_ids[0], skip_special_tokens=True)\n",
    "    return question\n",
    "\n",
    "# Example usage\n",
    "context = \"The mitochondria is the powerhouse of the cell.\"\n",
    "question = generate_question(context)\n",
    "print(\"Generated Question:\", question)\n"
   ]
  },
  {
   "cell_type": "code",
   "execution_count": 1,
   "metadata": {},
   "outputs": [
    {
     "name": "stderr",
     "output_type": "stream",
     "text": [
      "c:\\Python312\\Lib\\site-packages\\tqdm\\auto.py:21: TqdmWarning: IProgress not found. Please update jupyter and ipywidgets. See https://ipywidgets.readthedocs.io/en/stable/user_install.html\n",
      "  from .autonotebook import tqdm as notebook_tqdm\n",
      "C:\\Users\\Nakul Limbani\\AppData\\Roaming\\Python\\Python312\\site-packages\\huggingface_hub\\file_download.py:142: UserWarning: `huggingface_hub` cache-system uses symlinks by default to efficiently store duplicated files but your machine does not support them in C:\\Users\\Nakul Limbani\\.cache\\huggingface\\hub\\models--deepset--roberta-base-squad2. Caching files will still work but in a degraded version that might require more space on your disk. This warning can be disabled by setting the `HF_HUB_DISABLE_SYMLINKS_WARNING` environment variable. For more details, see https://huggingface.co/docs/huggingface_hub/how-to-cache#limitations.\n",
      "To support symlinks on Windows, you either need to activate Developer Mode or to run Python as an administrator. In order to activate developer mode, see this article: https://docs.microsoft.com/en-us/windows/apps/get-started/enable-your-device-for-development\n",
      "  warnings.warn(message)\n"
     ]
    },
    {
     "ename": "RuntimeError",
     "evalue": "Failed to import transformers.models.roberta.modeling_tf_roberta because of the following error (look up to see its traceback):\nYour currently installed version of Keras is Keras 3, but this is not yet supported in Transformers. Please install the backwards-compatible tf-keras package with `pip install tf-keras`.",
     "output_type": "error",
     "traceback": [
      "\u001b[1;31m---------------------------------------------------------------------------\u001b[0m",
      "\u001b[1;31mModuleNotFoundError\u001b[0m                       Traceback (most recent call last)",
      "File \u001b[1;32m~\\AppData\\Roaming\\Python\\Python312\\site-packages\\transformers\\activations_tf.py:22\u001b[0m\n\u001b[0;32m     21\u001b[0m \u001b[38;5;28;01mtry\u001b[39;00m:\n\u001b[1;32m---> 22\u001b[0m     \u001b[38;5;28;01mimport\u001b[39;00m \u001b[38;5;21;01mtf_keras\u001b[39;00m \u001b[38;5;28;01mas\u001b[39;00m \u001b[38;5;21;01mkeras\u001b[39;00m\n\u001b[0;32m     23\u001b[0m \u001b[38;5;28;01mexcept\u001b[39;00m (\u001b[38;5;167;01mModuleNotFoundError\u001b[39;00m, \u001b[38;5;167;01mImportError\u001b[39;00m):\n",
      "\u001b[1;31mModuleNotFoundError\u001b[0m: No module named 'tf_keras'",
      "\nDuring handling of the above exception, another exception occurred:\n",
      "\u001b[1;31mValueError\u001b[0m                                Traceback (most recent call last)",
      "File \u001b[1;32m~\\AppData\\Roaming\\Python\\Python312\\site-packages\\transformers\\utils\\import_utils.py:1863\u001b[0m, in \u001b[0;36m_LazyModule._get_module\u001b[1;34m(self, module_name)\u001b[0m\n\u001b[0;32m   1862\u001b[0m \u001b[38;5;28;01mtry\u001b[39;00m:\n\u001b[1;32m-> 1863\u001b[0m     \u001b[38;5;28;01mreturn\u001b[39;00m \u001b[43mimportlib\u001b[49m\u001b[38;5;241;43m.\u001b[39;49m\u001b[43mimport_module\u001b[49m\u001b[43m(\u001b[49m\u001b[38;5;124;43m\"\u001b[39;49m\u001b[38;5;124;43m.\u001b[39;49m\u001b[38;5;124;43m\"\u001b[39;49m\u001b[43m \u001b[49m\u001b[38;5;241;43m+\u001b[39;49m\u001b[43m \u001b[49m\u001b[43mmodule_name\u001b[49m\u001b[43m,\u001b[49m\u001b[43m \u001b[49m\u001b[38;5;28;43mself\u001b[39;49m\u001b[38;5;241;43m.\u001b[39;49m\u001b[38;5;18;43m__name__\u001b[39;49m\u001b[43m)\u001b[49m\n\u001b[0;32m   1864\u001b[0m \u001b[38;5;28;01mexcept\u001b[39;00m \u001b[38;5;167;01mException\u001b[39;00m \u001b[38;5;28;01mas\u001b[39;00m e:\n",
      "File \u001b[1;32mc:\\Python312\\Lib\\importlib\\__init__.py:90\u001b[0m, in \u001b[0;36mimport_module\u001b[1;34m(name, package)\u001b[0m\n\u001b[0;32m     89\u001b[0m         level \u001b[38;5;241m+\u001b[39m\u001b[38;5;241m=\u001b[39m \u001b[38;5;241m1\u001b[39m\n\u001b[1;32m---> 90\u001b[0m \u001b[38;5;28;01mreturn\u001b[39;00m \u001b[43m_bootstrap\u001b[49m\u001b[38;5;241;43m.\u001b[39;49m\u001b[43m_gcd_import\u001b[49m\u001b[43m(\u001b[49m\u001b[43mname\u001b[49m\u001b[43m[\u001b[49m\u001b[43mlevel\u001b[49m\u001b[43m:\u001b[49m\u001b[43m]\u001b[49m\u001b[43m,\u001b[49m\u001b[43m \u001b[49m\u001b[43mpackage\u001b[49m\u001b[43m,\u001b[49m\u001b[43m \u001b[49m\u001b[43mlevel\u001b[49m\u001b[43m)\u001b[49m\n",
      "File \u001b[1;32m<frozen importlib._bootstrap>:1387\u001b[0m, in \u001b[0;36m_gcd_import\u001b[1;34m(name, package, level)\u001b[0m\n",
      "File \u001b[1;32m<frozen importlib._bootstrap>:1360\u001b[0m, in \u001b[0;36m_find_and_load\u001b[1;34m(name, import_)\u001b[0m\n",
      "File \u001b[1;32m<frozen importlib._bootstrap>:1331\u001b[0m, in \u001b[0;36m_find_and_load_unlocked\u001b[1;34m(name, import_)\u001b[0m\n",
      "File \u001b[1;32m<frozen importlib._bootstrap>:935\u001b[0m, in \u001b[0;36m_load_unlocked\u001b[1;34m(spec)\u001b[0m\n",
      "File \u001b[1;32m<frozen importlib._bootstrap_external>:995\u001b[0m, in \u001b[0;36mexec_module\u001b[1;34m(self, module)\u001b[0m\n",
      "File \u001b[1;32m<frozen importlib._bootstrap>:488\u001b[0m, in \u001b[0;36m_call_with_frames_removed\u001b[1;34m(f, *args, **kwds)\u001b[0m\n",
      "File \u001b[1;32m~\\AppData\\Roaming\\Python\\Python312\\site-packages\\transformers\\models\\roberta\\modeling_tf_roberta.py:27\u001b[0m\n\u001b[0;32m     25\u001b[0m \u001b[38;5;28;01mimport\u001b[39;00m \u001b[38;5;21;01mtensorflow\u001b[39;00m \u001b[38;5;28;01mas\u001b[39;00m \u001b[38;5;21;01mtf\u001b[39;00m\n\u001b[1;32m---> 27\u001b[0m \u001b[38;5;28;01mfrom\u001b[39;00m \u001b[38;5;21;01m.\u001b[39;00m\u001b[38;5;21;01m.\u001b[39;00m\u001b[38;5;21;01m.\u001b[39;00m\u001b[38;5;21;01mactivations_tf\u001b[39;00m \u001b[38;5;28;01mimport\u001b[39;00m get_tf_activation\n\u001b[0;32m     28\u001b[0m \u001b[38;5;28;01mfrom\u001b[39;00m \u001b[38;5;21;01m.\u001b[39;00m\u001b[38;5;21;01m.\u001b[39;00m\u001b[38;5;21;01m.\u001b[39;00m\u001b[38;5;21;01mmodeling_tf_outputs\u001b[39;00m \u001b[38;5;28;01mimport\u001b[39;00m (\n\u001b[0;32m     29\u001b[0m     TFBaseModelOutputWithPastAndCrossAttentions,\n\u001b[0;32m     30\u001b[0m     TFBaseModelOutputWithPoolingAndCrossAttentions,\n\u001b[1;32m   (...)\u001b[0m\n\u001b[0;32m     36\u001b[0m     TFTokenClassifierOutput,\n\u001b[0;32m     37\u001b[0m )\n",
      "File \u001b[1;32m~\\AppData\\Roaming\\Python\\Python312\\site-packages\\transformers\\activations_tf.py:27\u001b[0m\n\u001b[0;32m     26\u001b[0m     \u001b[38;5;28;01mif\u001b[39;00m parse(keras\u001b[38;5;241m.\u001b[39m__version__)\u001b[38;5;241m.\u001b[39mmajor \u001b[38;5;241m>\u001b[39m \u001b[38;5;241m2\u001b[39m:\n\u001b[1;32m---> 27\u001b[0m         \u001b[38;5;28;01mraise\u001b[39;00m \u001b[38;5;167;01mValueError\u001b[39;00m(\n\u001b[0;32m     28\u001b[0m             \u001b[38;5;124m\"\u001b[39m\u001b[38;5;124mYour currently installed version of Keras is Keras 3, but this is not yet supported in \u001b[39m\u001b[38;5;124m\"\u001b[39m\n\u001b[0;32m     29\u001b[0m             \u001b[38;5;124m\"\u001b[39m\u001b[38;5;124mTransformers. Please install the backwards-compatible tf-keras package with \u001b[39m\u001b[38;5;124m\"\u001b[39m\n\u001b[0;32m     30\u001b[0m             \u001b[38;5;124m\"\u001b[39m\u001b[38;5;124m`pip install tf-keras`.\u001b[39m\u001b[38;5;124m\"\u001b[39m\n\u001b[0;32m     31\u001b[0m         )\n\u001b[0;32m     34\u001b[0m \u001b[38;5;28;01mdef\u001b[39;00m \u001b[38;5;21m_gelu\u001b[39m(x):\n",
      "\u001b[1;31mValueError\u001b[0m: Your currently installed version of Keras is Keras 3, but this is not yet supported in Transformers. Please install the backwards-compatible tf-keras package with `pip install tf-keras`.",
      "\nThe above exception was the direct cause of the following exception:\n",
      "\u001b[1;31mRuntimeError\u001b[0m                              Traceback (most recent call last)",
      "Cell \u001b[1;32mIn[1], line 7\u001b[0m\n\u001b[0;32m      4\u001b[0m \u001b[38;5;28;01mfrom\u001b[39;00m \u001b[38;5;21;01mtransformers\u001b[39;00m \u001b[38;5;28;01mimport\u001b[39;00m pipeline, T5Tokenizer, T5ForConditionalGeneration\n\u001b[0;32m      6\u001b[0m \u001b[38;5;66;03m# Load necessary models\u001b[39;00m\n\u001b[1;32m----> 7\u001b[0m qa_model \u001b[38;5;241m=\u001b[39m \u001b[43mpipeline\u001b[49m\u001b[43m(\u001b[49m\u001b[38;5;124;43m\"\u001b[39;49m\u001b[38;5;124;43mquestion-answering\u001b[39;49m\u001b[38;5;124;43m\"\u001b[39;49m\u001b[43m,\u001b[49m\u001b[43m \u001b[49m\u001b[43mmodel\u001b[49m\u001b[38;5;241;43m=\u001b[39;49m\u001b[38;5;124;43m\"\u001b[39;49m\u001b[38;5;124;43mdeepset/roberta-base-squad2\u001b[39;49m\u001b[38;5;124;43m\"\u001b[39;49m\u001b[43m)\u001b[49m\n\u001b[0;32m      8\u001b[0m mcq_model_name \u001b[38;5;241m=\u001b[39m \u001b[38;5;124m\"\u001b[39m\u001b[38;5;124mpierreguillou/t5-base-question-generation\u001b[39m\u001b[38;5;124m\"\u001b[39m\n\u001b[0;32m      9\u001b[0m tokenizer \u001b[38;5;241m=\u001b[39m T5Tokenizer\u001b[38;5;241m.\u001b[39mfrom_pretrained(mcq_model_name)\n",
      "File \u001b[1;32m~\\AppData\\Roaming\\Python\\Python312\\site-packages\\transformers\\pipelines\\__init__.py:940\u001b[0m, in \u001b[0;36mpipeline\u001b[1;34m(task, model, config, tokenizer, feature_extractor, image_processor, processor, framework, revision, use_fast, token, device, device_map, torch_dtype, trust_remote_code, model_kwargs, pipeline_class, **kwargs)\u001b[0m\n\u001b[0;32m    938\u001b[0m \u001b[38;5;28;01mif\u001b[39;00m \u001b[38;5;28misinstance\u001b[39m(model, \u001b[38;5;28mstr\u001b[39m) \u001b[38;5;129;01mor\u001b[39;00m framework \u001b[38;5;129;01mis\u001b[39;00m \u001b[38;5;28;01mNone\u001b[39;00m:\n\u001b[0;32m    939\u001b[0m     model_classes \u001b[38;5;241m=\u001b[39m {\u001b[38;5;124m\"\u001b[39m\u001b[38;5;124mtf\u001b[39m\u001b[38;5;124m\"\u001b[39m: targeted_task[\u001b[38;5;124m\"\u001b[39m\u001b[38;5;124mtf\u001b[39m\u001b[38;5;124m\"\u001b[39m], \u001b[38;5;124m\"\u001b[39m\u001b[38;5;124mpt\u001b[39m\u001b[38;5;124m\"\u001b[39m: targeted_task[\u001b[38;5;124m\"\u001b[39m\u001b[38;5;124mpt\u001b[39m\u001b[38;5;124m\"\u001b[39m]}\n\u001b[1;32m--> 940\u001b[0m     framework, model \u001b[38;5;241m=\u001b[39m \u001b[43minfer_framework_load_model\u001b[49m\u001b[43m(\u001b[49m\n\u001b[0;32m    941\u001b[0m \u001b[43m        \u001b[49m\u001b[43mmodel\u001b[49m\u001b[43m,\u001b[49m\n\u001b[0;32m    942\u001b[0m \u001b[43m        \u001b[49m\u001b[43mmodel_classes\u001b[49m\u001b[38;5;241;43m=\u001b[39;49m\u001b[43mmodel_classes\u001b[49m\u001b[43m,\u001b[49m\n\u001b[0;32m    943\u001b[0m \u001b[43m        \u001b[49m\u001b[43mconfig\u001b[49m\u001b[38;5;241;43m=\u001b[39;49m\u001b[43mconfig\u001b[49m\u001b[43m,\u001b[49m\n\u001b[0;32m    944\u001b[0m \u001b[43m        \u001b[49m\u001b[43mframework\u001b[49m\u001b[38;5;241;43m=\u001b[39;49m\u001b[43mframework\u001b[49m\u001b[43m,\u001b[49m\n\u001b[0;32m    945\u001b[0m \u001b[43m        \u001b[49m\u001b[43mtask\u001b[49m\u001b[38;5;241;43m=\u001b[39;49m\u001b[43mtask\u001b[49m\u001b[43m,\u001b[49m\n\u001b[0;32m    946\u001b[0m \u001b[43m        \u001b[49m\u001b[38;5;241;43m*\u001b[39;49m\u001b[38;5;241;43m*\u001b[39;49m\u001b[43mhub_kwargs\u001b[49m\u001b[43m,\u001b[49m\n\u001b[0;32m    947\u001b[0m \u001b[43m        \u001b[49m\u001b[38;5;241;43m*\u001b[39;49m\u001b[38;5;241;43m*\u001b[39;49m\u001b[43mmodel_kwargs\u001b[49m\u001b[43m,\u001b[49m\n\u001b[0;32m    948\u001b[0m \u001b[43m    \u001b[49m\u001b[43m)\u001b[49m\n\u001b[0;32m    950\u001b[0m model_config \u001b[38;5;241m=\u001b[39m model\u001b[38;5;241m.\u001b[39mconfig\n\u001b[0;32m    951\u001b[0m hub_kwargs[\u001b[38;5;124m\"\u001b[39m\u001b[38;5;124m_commit_hash\u001b[39m\u001b[38;5;124m\"\u001b[39m] \u001b[38;5;241m=\u001b[39m model\u001b[38;5;241m.\u001b[39mconfig\u001b[38;5;241m.\u001b[39m_commit_hash\n",
      "File \u001b[1;32m~\\AppData\\Roaming\\Python\\Python312\\site-packages\\transformers\\pipelines\\base.py:265\u001b[0m, in \u001b[0;36minfer_framework_load_model\u001b[1;34m(model, config, model_classes, task, framework, **model_kwargs)\u001b[0m\n\u001b[0;32m    263\u001b[0m         classes\u001b[38;5;241m.\u001b[39mappend(_class)\n\u001b[0;32m    264\u001b[0m \u001b[38;5;28;01mif\u001b[39;00m look_tf:\n\u001b[1;32m--> 265\u001b[0m     _class \u001b[38;5;241m=\u001b[39m \u001b[38;5;28;43mgetattr\u001b[39;49m\u001b[43m(\u001b[49m\u001b[43mtransformers_module\u001b[49m\u001b[43m,\u001b[49m\u001b[43m \u001b[49m\u001b[38;5;124;43mf\u001b[39;49m\u001b[38;5;124;43m\"\u001b[39;49m\u001b[38;5;124;43mTF\u001b[39;49m\u001b[38;5;132;43;01m{\u001b[39;49;00m\u001b[43marchitecture\u001b[49m\u001b[38;5;132;43;01m}\u001b[39;49;00m\u001b[38;5;124;43m\"\u001b[39;49m\u001b[43m,\u001b[49m\u001b[43m \u001b[49m\u001b[38;5;28;43;01mNone\u001b[39;49;00m\u001b[43m)\u001b[49m\n\u001b[0;32m    266\u001b[0m     \u001b[38;5;28;01mif\u001b[39;00m _class \u001b[38;5;129;01mis\u001b[39;00m \u001b[38;5;129;01mnot\u001b[39;00m \u001b[38;5;28;01mNone\u001b[39;00m:\n\u001b[0;32m    267\u001b[0m         classes\u001b[38;5;241m.\u001b[39mappend(_class)\n",
      "File \u001b[1;32m~\\AppData\\Roaming\\Python\\Python312\\site-packages\\transformers\\utils\\import_utils.py:1852\u001b[0m, in \u001b[0;36m_LazyModule.__getattr__\u001b[1;34m(self, name)\u001b[0m\n\u001b[0;32m   1850\u001b[0m \u001b[38;5;28;01melif\u001b[39;00m name \u001b[38;5;129;01min\u001b[39;00m \u001b[38;5;28mself\u001b[39m\u001b[38;5;241m.\u001b[39m_class_to_module\u001b[38;5;241m.\u001b[39mkeys():\n\u001b[0;32m   1851\u001b[0m     module \u001b[38;5;241m=\u001b[39m \u001b[38;5;28mself\u001b[39m\u001b[38;5;241m.\u001b[39m_get_module(\u001b[38;5;28mself\u001b[39m\u001b[38;5;241m.\u001b[39m_class_to_module[name])\n\u001b[1;32m-> 1852\u001b[0m     value \u001b[38;5;241m=\u001b[39m \u001b[38;5;28;43mgetattr\u001b[39;49m\u001b[43m(\u001b[49m\u001b[43mmodule\u001b[49m\u001b[43m,\u001b[49m\u001b[43m \u001b[49m\u001b[43mname\u001b[49m\u001b[43m)\u001b[49m\n\u001b[0;32m   1853\u001b[0m \u001b[38;5;28;01melif\u001b[39;00m name \u001b[38;5;129;01min\u001b[39;00m \u001b[38;5;28mself\u001b[39m\u001b[38;5;241m.\u001b[39m_modules:\n\u001b[0;32m   1854\u001b[0m     value \u001b[38;5;241m=\u001b[39m \u001b[38;5;28mself\u001b[39m\u001b[38;5;241m.\u001b[39m_get_module(name)\n",
      "File \u001b[1;32m~\\AppData\\Roaming\\Python\\Python312\\site-packages\\transformers\\utils\\import_utils.py:1851\u001b[0m, in \u001b[0;36m_LazyModule.__getattr__\u001b[1;34m(self, name)\u001b[0m\n\u001b[0;32m   1849\u001b[0m     value \u001b[38;5;241m=\u001b[39m Placeholder\n\u001b[0;32m   1850\u001b[0m \u001b[38;5;28;01melif\u001b[39;00m name \u001b[38;5;129;01min\u001b[39;00m \u001b[38;5;28mself\u001b[39m\u001b[38;5;241m.\u001b[39m_class_to_module\u001b[38;5;241m.\u001b[39mkeys():\n\u001b[1;32m-> 1851\u001b[0m     module \u001b[38;5;241m=\u001b[39m \u001b[38;5;28;43mself\u001b[39;49m\u001b[38;5;241;43m.\u001b[39;49m\u001b[43m_get_module\u001b[49m\u001b[43m(\u001b[49m\u001b[38;5;28;43mself\u001b[39;49m\u001b[38;5;241;43m.\u001b[39;49m\u001b[43m_class_to_module\u001b[49m\u001b[43m[\u001b[49m\u001b[43mname\u001b[49m\u001b[43m]\u001b[49m\u001b[43m)\u001b[49m\n\u001b[0;32m   1852\u001b[0m     value \u001b[38;5;241m=\u001b[39m \u001b[38;5;28mgetattr\u001b[39m(module, name)\n\u001b[0;32m   1853\u001b[0m \u001b[38;5;28;01melif\u001b[39;00m name \u001b[38;5;129;01min\u001b[39;00m \u001b[38;5;28mself\u001b[39m\u001b[38;5;241m.\u001b[39m_modules:\n",
      "File \u001b[1;32m~\\AppData\\Roaming\\Python\\Python312\\site-packages\\transformers\\utils\\import_utils.py:1865\u001b[0m, in \u001b[0;36m_LazyModule._get_module\u001b[1;34m(self, module_name)\u001b[0m\n\u001b[0;32m   1863\u001b[0m     \u001b[38;5;28;01mreturn\u001b[39;00m importlib\u001b[38;5;241m.\u001b[39mimport_module(\u001b[38;5;124m\"\u001b[39m\u001b[38;5;124m.\u001b[39m\u001b[38;5;124m\"\u001b[39m \u001b[38;5;241m+\u001b[39m module_name, \u001b[38;5;28mself\u001b[39m\u001b[38;5;241m.\u001b[39m\u001b[38;5;18m__name__\u001b[39m)\n\u001b[0;32m   1864\u001b[0m \u001b[38;5;28;01mexcept\u001b[39;00m \u001b[38;5;167;01mException\u001b[39;00m \u001b[38;5;28;01mas\u001b[39;00m e:\n\u001b[1;32m-> 1865\u001b[0m     \u001b[38;5;28;01mraise\u001b[39;00m \u001b[38;5;167;01mRuntimeError\u001b[39;00m(\n\u001b[0;32m   1866\u001b[0m         \u001b[38;5;124mf\u001b[39m\u001b[38;5;124m\"\u001b[39m\u001b[38;5;124mFailed to import \u001b[39m\u001b[38;5;132;01m{\u001b[39;00m\u001b[38;5;28mself\u001b[39m\u001b[38;5;241m.\u001b[39m\u001b[38;5;18m__name__\u001b[39m\u001b[38;5;132;01m}\u001b[39;00m\u001b[38;5;124m.\u001b[39m\u001b[38;5;132;01m{\u001b[39;00mmodule_name\u001b[38;5;132;01m}\u001b[39;00m\u001b[38;5;124m because of the following error (look up to see its\u001b[39m\u001b[38;5;124m\"\u001b[39m\n\u001b[0;32m   1867\u001b[0m         \u001b[38;5;124mf\u001b[39m\u001b[38;5;124m\"\u001b[39m\u001b[38;5;124m traceback):\u001b[39m\u001b[38;5;130;01m\\n\u001b[39;00m\u001b[38;5;132;01m{\u001b[39;00me\u001b[38;5;132;01m}\u001b[39;00m\u001b[38;5;124m\"\u001b[39m\n\u001b[0;32m   1868\u001b[0m     ) \u001b[38;5;28;01mfrom\u001b[39;00m \u001b[38;5;21;01me\u001b[39;00m\n",
      "\u001b[1;31mRuntimeError\u001b[0m: Failed to import transformers.models.roberta.modeling_tf_roberta because of the following error (look up to see its traceback):\nYour currently installed version of Keras is Keras 3, but this is not yet supported in Transformers. Please install the backwards-compatible tf-keras package with `pip install tf-keras`."
     ]
    }
   ],
   "source": [
    "import random\n",
    "import nltk\n",
    "from nltk.corpus import wordnet\n",
    "from transformers import pipeline, T5Tokenizer, T5ForConditionalGeneration\n",
    "\n",
    "# Load necessary models\n",
    "qa_model = pipeline(\"question-answering\", model=\"deepset/roberta-base-squad2\")\n",
    "mcq_model_name = \"pierreguillou/t5-base-question-generation\"\n",
    "tokenizer = T5Tokenizer.from_pretrained(mcq_model_name)\n",
    "model = T5ForConditionalGeneration.from_pretrained(mcq_model_name)\n",
    "\n",
    "nltk.download(\"wordnet\")\n",
    "\n",
    "def extract_answer(context, question):\n",
    "    \"\"\"Extract the correct answer from the passage using a QA model.\"\"\"\n",
    "    result = qa_model(question=question, context=context)\n",
    "    return result[\"answer\"]\n",
    "\n",
    "def generate_distractors(answer, num_distractors=3):\n",
    "    \"\"\"Generate similar but incorrect options for a quiz answer.\"\"\"\n",
    "    synonyms = set()\n",
    "    for syn in wordnet.synsets(answer):\n",
    "        for lemma in syn.lemmas():\n",
    "            synonyms.add(lemma.name())\n",
    "\n",
    "    distractors = list(synonyms - {answer})[:num_distractors]\n",
    "    if len(distractors) < num_distractors:\n",
    "        distractors.extend([str(int(answer.split()[0]) + i) + \" degrees\" for i in range(1, num_distractors + 1)])\n",
    "\n",
    "    return distractors[:num_distractors]\n",
    "\n",
    "def generate_mcq(context):\n",
    "    \"\"\"Generate a full MCQ from a given context.\"\"\"\n",
    "    # Step 1: Generate the Question\n",
    "    input_text = f\"Generate a multiple-choice question based on: {context}\"\n",
    "    input_ids = tokenizer(input_text, return_tensors=\"pt\").input_ids\n",
    "    output_ids = model.generate(input_ids, max_length=100)\n",
    "    question = tokenizer.decode(output_ids[0], skip_special_tokens=True)\n",
    "\n",
    "    # Step 2: Extract Correct Answer\n",
    "    correct_answer = extract_answer(context, question)\n",
    "\n",
    "    # Step 3: Generate Distractors\n",
    "    distractors = generate_distractors(correct_answer)\n",
    "\n",
    "    # Step 4: Shuffle Options\n",
    "    options = [correct_answer] + distractors\n",
    "    random.shuffle(options)\n",
    "\n",
    "    # Step 5: Format MCQ\n",
    "    formatted_mcq = f\"❓ {question}\\n(A) {options[0]}\\n(B) {options[1]}\\n(C) {options[2]}\\n(D) {options[3]}\"\n",
    "    \n",
    "    return formatted_mcq, correct_answer\n",
    "\n",
    "# **Example Input**\n",
    "context = \"The sum of all angles of a triangle is 180 degrees.\"\n",
    "mcq, answer = generate_mcq(context)\n",
    "print(mcq)\n",
    "print(\"\\n✅ Correct Answer:\", answer)\n"
   ]
  }
 ],
 "metadata": {
  "kernelspec": {
   "display_name": "Python 3",
   "language": "python",
   "name": "python3"
  },
  "language_info": {
   "codemirror_mode": {
    "name": "ipython",
    "version": 3
   },
   "file_extension": ".py",
   "mimetype": "text/x-python",
   "name": "python",
   "nbconvert_exporter": "python",
   "pygments_lexer": "ipython3",
   "version": "3.12.2"
  }
 },
 "nbformat": 4,
 "nbformat_minor": 2
}
